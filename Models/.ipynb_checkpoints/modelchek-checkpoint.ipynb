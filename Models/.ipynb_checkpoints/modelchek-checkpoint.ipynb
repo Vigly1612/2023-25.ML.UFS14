{
 "cells": [
  {
   "cell_type": "code",
   "execution_count": 74,
   "metadata": {},
   "outputs": [],
   "source": [
    "from keras.src.saving import load_model\n",
    "from sklearn.metrics import accuracy_score\n",
    "import pandas as pd\n",
    "import numpy as np"
   ]
  },
  {
   "cell_type": "code",
   "execution_count": 75,
   "metadata": {},
   "outputs": [],
   "source": [
    "loaded_model = load_model(\"ModelTelv2.keras\")"
   ]
  },
  {
   "cell_type": "code",
   "execution_count": 76,
   "metadata": {},
   "outputs": [],
   "source": [
    "df = pd.read_csv(\"./Data/moving.csv\")"
   ]
  },
  {
   "cell_type": "code",
   "execution_count": 77,
   "metadata": {},
   "outputs": [],
   "source": [
    "x = df[[\"AccX\", \"AccY\", \"AccZ\"]]\n",
    "y = df[\"Label\"]"
   ]
  },
  {
   "cell_type": "code",
   "execution_count": 78,
   "metadata": {},
   "outputs": [
    {
     "name": "stdout",
     "output_type": "stream",
     "text": [
      "\u001b[1m63/63\u001b[0m \u001b[32m━━━━━━━━━━━━━━━━━━━━\u001b[0m\u001b[37m\u001b[0m \u001b[1m0s\u001b[0m 3ms/step\n"
     ]
    }
   ],
   "source": [
    "y_pred = np.argmax(loaded_model.predict(x), axis=1)"
   ]
  },
  {
   "cell_type": "code",
   "execution_count": null,
   "metadata": {},
   "outputs": [
    {
     "name": "stdout",
     "output_type": "stream",
     "text": [
      "Giuste: 1667     Sbagliate: 334\n",
      "Accuracy: 83.30834582708646\n"
     ]
    }
   ],
   "source": [
    "giuste, sbagliate = 0, 0\n",
    "for y_pred, y in zip(y_pred, y):\n",
    "    if y_pred == y:\n",
    "        giuste += 1\n",
    "    else:\n",
    "        sbagliate +=1\n",
    "\n",
    "print(f\"Giuste: {giuste}     Sbagliate: {sbagliate}\")\n",
    "print(f\"Accuracy: {100*giuste/(giuste+sbagliate)}\")"
   ]
  }
 ],
 "metadata": {
  "kernelspec": {
   "display_name": "ModelliAle",
   "language": "python",
   "name": "python3"
  },
  "language_info": {
   "codemirror_mode": {
    "name": "ipython",
    "version": 3
   },
   "file_extension": ".py",
   "mimetype": "text/x-python",
   "name": "python",
   "nbconvert_exporter": "python",
   "pygments_lexer": "ipython3",
   "version": "3.11.10"
  }
 },
 "nbformat": 4,
 "nbformat_minor": 2
}
